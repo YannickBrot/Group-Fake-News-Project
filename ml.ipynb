{
 "cells": [
  {
   "cell_type": "markdown",
   "id": "141b6e1f51f9f8bd",
   "metadata": {},
   "source": [
    "# Part 1"
   ]
  },
  {
   "cell_type": "markdown",
   "id": "730b2db5dc2bf425",
   "metadata": {},
   "source": [
    "## Task 3"
   ]
  },
  {
   "cell_type": "code",
   "execution_count": null,
   "id": "initial_id",
   "metadata": {
    "ExecuteTime": {
     "end_time": "2024-03-25T18:20:51.217397Z",
     "start_time": "2024-03-25T18:20:51.213840Z"
    },
    "collapsed": true
   },
   "outputs": [],
   "source": []
  },
  {
   "cell_type": "markdown",
   "id": "8edb3bf63098aaf9",
   "metadata": {},
   "source": [
    "## Task 4"
   ]
  },
  {
   "cell_type": "code",
   "execution_count": 1,
   "id": "3ba542e781611421",
   "metadata": {
    "ExecuteTime": {
     "end_time": "2024-03-26T08:21:13.409064Z",
     "start_time": "2024-03-26T08:21:13.404767Z"
    }
   },
   "outputs": [],
   "source": [
    "import pandas as pd\n",
    "\n",
    "def prepare_data(df):\n",
    "    # Check if 'type' column exists\n",
    "    if 'type' in df.columns:\n",
    "        included_types = ['political', 'fake', 'satire', 'reliable', 'conspiracy', 'bias', 'junksci', 'unreliable']\n",
    "        df_filtered = df[df['type'].notna() & df['type'].isin(included_types)]\n",
    "        reliable_types = ['reliable', 'political']\n",
    "        df_filtered['type'] = df_filtered['type'].apply(lambda x: 1 if x in reliable_types else 0)\n",
    "    else:\n",
    "        # If 'type' column doesn't exist, proceed with the whole DataFrame\n",
    "        df_filtered = df.copy()\n",
    "\n",
    "    # Filtering rows where 'content' is not NA or empty after stripping whitespace\n",
    "    df_filtered = df_filtered[df_filtered['content'].notna() & df_filtered['content'].str.strip().astype(bool)]\n",
    "    # Filtering out rows where 'content' is numeric\n",
    "    df_filtered = df_filtered[~df_filtered['content'].str.isnumeric().fillna(False)]\n",
    "\n",
    "    return df_filtered"
   ]
  },
  {
   "cell_type": "code",
   "execution_count": 2,
   "id": "2feaf010a2cac9de",
   "metadata": {
    "ExecuteTime": {
     "end_time": "2024-03-26T08:21:32.988739Z",
     "start_time": "2024-03-26T08:21:13.407056Z"
    }
   },
   "outputs": [
    {
     "name": "stdout",
     "output_type": "stream",
     "text": [
      "reading and splitting data...\n"
     ]
    },
    {
     "name": "stderr",
     "output_type": "stream",
     "text": [
      "/var/folders/08/xjbs0s0j72s556nv4_bvymhh0000gn/T/ipykernel_1781/796971196.py:9: DtypeWarning: Columns (0,1) have mixed types. Specify dtype option on import or set low_memory=False.\n",
      "  df = pd.read_csv(path)\n",
      "/var/folders/08/xjbs0s0j72s556nv4_bvymhh0000gn/T/ipykernel_1781/2451057150.py:9: SettingWithCopyWarning: \n",
      "A value is trying to be set on a copy of a slice from a DataFrame.\n",
      "Try using .loc[row_indexer,col_indexer] = value instead\n",
      "\n",
      "See the caveats in the documentation: https://pandas.pydata.org/pandas-docs/stable/user_guide/indexing.html#returning-a-view-versus-a-copy\n",
      "  df_filtered['type'] = df_filtered['type'].apply(lambda x: 1 if x in reliable_types else 0)\n"
     ]
    },
    {
     "name": "stdout",
     "output_type": "stream",
     "text": [
      "finished reading and splitting data in: 17.356 seconds\n"
     ]
    }
   ],
   "source": [
    "import numpy as np\n",
    "from sklearn.model_selection import train_test_split\n",
    "import time\n",
    "\n",
    "print('reading and splitting data...')\n",
    "start_time = time.time()\n",
    "\n",
    "path = 'cleaned.csv'\n",
    "df = pd.read_csv(path)\n",
    "\n",
    "df = prepare_data(df)\n",
    "\n",
    "X = np.array(df['content'])\n",
    "y = np.array(df['type'])\n",
    "\n",
    "X_train, X_temp, y_train, y_temp = train_test_split(X, y, test_size=0.2, random_state=27)\n",
    "X_val, X_test, y_val, y_test = train_test_split(X_temp, y_temp, test_size=0.5, random_state=27)\n",
    "\n",
    "elapsed_time = time.time() - start_time\n",
    "print(f\"finished reading and splitting data in: {elapsed_time:.3f} seconds\")"
   ]
  },
  {
   "cell_type": "markdown",
   "id": "4ecda4b55c2d4046",
   "metadata": {},
   "source": [
    "# Part 2"
   ]
  },
  {
   "cell_type": "markdown",
   "id": "b99073150d8d1553",
   "metadata": {},
   "source": [
    "## Task 0"
   ]
  },
  {
   "cell_type": "code",
   "execution_count": 3,
   "id": "9a123efba21e4315",
   "metadata": {
    "ExecuteTime": {
     "end_time": "2024-03-26T08:21:33.120187Z",
     "start_time": "2024-03-26T08:21:33.058932Z"
    }
   },
   "outputs": [
    {
     "data": {
      "image/png": "[encoded data removed]",
      "text/plain": [
       "<Figure size 600x400 with 1 Axes>"
      ]
     },
     "metadata": {},
     "output_type": "display_data"
    }
   ],
   "source": [
    "import matplotlib.pyplot as plt\n",
    "\n",
    "\n",
    "def plot_distribution(counts):\n",
    "    # Plotting\n",
    "    labels = ['Fake', 'Reliable']\n",
    "    plt.figure(figsize=(6, 4))\n",
    "    plt.pie(counts, labels=labels, autopct='%1.1f%%', startangle=140)\n",
    "    plt.title('Distribution of Reliable and Fake Articles')\n",
    "    plt.show()\n",
    "\n",
    "\n",
    "_, counts = np.unique(y, return_counts=True)\n",
    "plot_distribution(counts)"
   ]
  },
  {
   "cell_type": "markdown",
   "id": "7d9ca8d87a2875e1",
   "metadata": {},
   "source": [
    "## Task 1"
   ]
  },
  {
   "cell_type": "code",
   "execution_count": 4,
   "id": "a31c62a163c0c025",
   "metadata": {
    "ExecuteTime": {
     "end_time": "2024-03-26T08:21:33.185751Z",
     "start_time": "2024-03-26T08:21:33.124936Z"
    }
   },
   "outputs": [],
   "source": [
    "from sklearn.metrics import accuracy_score\n",
    "from sklearn.dummy import DummyClassifier\n",
    "from sklearn.model_selection import GridSearchCV\n",
    "from sklearn.linear_model import LogisticRegression\n",
    "import re\n",
    "from joblib import dump, load\n",
    "\n",
    "def random_guessing_performance(X_train, y_train, X_val, y_val):\n",
    "    uniform_classifier = DummyClassifier(strategy='uniform', random_state=0)\n",
    "    uniform_classifier.fit(X_train, y_train)\n",
    "    uniform_y_pred = uniform_classifier.predict(X_val)\n",
    "    uniform_accuracy = accuracy_score(y_val, uniform_y_pred)\n",
    "    print(f\"Accuracy of Uniform Random classifier: {uniform_accuracy:.4f}\")\n",
    "    return uniform_accuracy\n",
    "\n",
    "\n",
    "def guessing_most_frequent_performance(X_train, y_train, X_val, y_val):\n",
    "    most_frequent_classifier = DummyClassifier(strategy='most_frequent', random_state=0)\n",
    "    most_frequent_classifier.fit(X_train, y_train)\n",
    "    most_frequent_y_pred = most_frequent_classifier.predict(X_val)\n",
    "    most_frequent_accuracy = accuracy_score(y_val, most_frequent_y_pred)\n",
    "    print(f\"Accuracy of Most Frequent classifier: {most_frequent_accuracy:.4f}\")\n",
    "    return most_frequent_accuracy\n",
    "\n",
    "\n",
    "def logistic_regression_performance(X_train, y_train, X_val, y_val, saveName=None, simple=False):\n",
    "    print('fitting logistic regression...')\n",
    "    start_time = time.time()\n",
    "\n",
    "    parameters = {\n",
    "        'C': [0.1, 100],\n",
    "        'penalty': ['l2'],\n",
    "        'solver': ['liblinear', 'lbfgs'],\n",
    "        'tol': [1e-4, 1e-2],\n",
    "        'class_weight': [None, 'balanced'],\n",
    "        'max_iter': [100, 1000],\n",
    "    }\n",
    "    if simple:\n",
    "        logistic_regression_classifier = LogisticRegression(solver=\"liblinear\")\n",
    "    else:\n",
    "        logistic_regression_classifier = GridSearchCV(LogisticRegression(), parameters, cv=3, scoring='accuracy', verbose=1, n_jobs=-1)\n",
    "    \n",
    "    logistic_regression_classifier.fit(X_train, y_train)\n",
    "    logistic_regression_y_pred = logistic_regression_classifier.predict(X_val)\n",
    "    logistic_regression_accuracy = accuracy_score(y_val, logistic_regression_y_pred)\n",
    "    print(f\"Accuracy of Logistic Regression classifier: {logistic_regression_accuracy:.4f}\")\n",
    "\n",
    "    elapsed_time = time.time() - start_time\n",
    "    print(f\"finished fitting logistic regression in: {elapsed_time:.3f} seconds\")\n",
    "    if saveName:\n",
    "        dump(logistic_regression_classifier, saveName)\n",
    "    return logistic_regression_accuracy\n",
    "\n",
    "\n",
    "def display_model_comparisons(model_names, accuracies, title):\n",
    "    # Combine the model names and accuracies, sort them by accuracies in descending order\n",
    "    combined = sorted(zip(model_names, accuracies), key=lambda x: x[1], reverse=True)\n",
    "    sorted_model_names, sorted_accuracies = zip(*combined)\n",
    "\n",
    "    # Set up the matplotlib figure and axes\n",
    "    fig, ax = plt.subplots(figsize=(10, 5))  # Corrected to use a single axis\n",
    "\n",
    "    # Plotting sorted accuracy scores\n",
    "    ax.bar(sorted_model_names, sorted_accuracies, color='skyblue')\n",
    "    ax.set_title(title)\n",
    "    ax.set_ylabel('Accuracy')\n",
    "    ax.set_ylim(0, 1)  # Assuming accuracy values are between 0 and 1\n",
    "    ax.set_xticks(range(len(sorted_model_names)))  # Set x-ticks positions\n",
    "    ax.set_xticklabels(sorted_model_names, rotation=45, ha=\"right\")  # Rotate labels to avoid overlap\n",
    "    for i, v in enumerate(sorted_accuracies):\n",
    "        ax.text(i, v + 0.01, f\"{v:.3f}\", ha='center', va='bottom')\n",
    "\n",
    "    # Improve layout and show plot\n",
    "    plt.tight_layout()\n",
    "    plt.show()\n",
    "\n",
    "\n",
    "def extract_number_of_tokens(content):\n",
    "    if isinstance(content, str):\n",
    "        tokens = content.split()\n",
    "        return len(tokens)\n",
    "    else:\n",
    "        return 0\n",
    "\n",
    "\n",
    "def extract_content_length(content):\n",
    "    if isinstance(content, str):\n",
    "        return len(content)\n",
    "    else:\n",
    "        return 0\n",
    "\n",
    "\n",
    "def extract_avg_token_length(content):\n",
    "    if isinstance(content, str):\n",
    "        tokens = content.split(' ')\n",
    "        token_lengths = sum([len(token) for token in tokens])\n",
    "        return token_lengths / len(tokens)\n",
    "    else:\n",
    "        return 0\n",
    "\n",
    "\n",
    "def count_truth_variations(text):\n",
    "    if isinstance(text, str):\n",
    "        pattern = re.compile(r'\\btr(?:ue|uth|uly|uthful|uthfulness)\\b', re.IGNORECASE)\n",
    "        true_count = len(pattern.findall(text))\n",
    "        return true_count\n",
    "    else:\n",
    "        return 0\n",
    "\n",
    "\n",
    "def count_term_occurrences(text):\n",
    "    if isinstance(text, str):\n",
    "        pattern = re.compile(r'\\bsaid|mr|new|iran|iranian|year|york|rec|main|newslett\\b', re.IGNORECASE)\n",
    "        true_count = len(pattern.findall(text))\n",
    "        return true_count\n",
    "    else:\n",
    "        return 0"
   ]
  },
  {
   "cell_type": "code",
   "execution_count": 5,
   "id": "75cc2c9f81dd8378",
   "metadata": {
    "ExecuteTime": {
     "end_time": "2024-03-25T18:21:10.821523Z",
     "start_time": "2024-03-25T18:21:10.819018Z"
    }
   },
   "outputs": [],
   "source": [
    "def compare_baseline_models_on_content_features(X_train, y_train, X_val, y_val, title='Model Accuracies'):\n",
    "    X_train_content_length = np.vectorize(extract_content_length)(X_train)\n",
    "    X_val_content_length = np.vectorize(extract_content_length)(X_val)\n",
    "\n",
    "    X_train_token_length = np.vectorize(extract_avg_token_length)(X_train)\n",
    "    X_val_token_length = np.vectorize(extract_avg_token_length)(X_val)\n",
    "\n",
    "    X_train_number_of_tokens = np.vectorize(extract_number_of_tokens)(X_train)\n",
    "    X_val_number_of_tokens = np.vectorize(extract_number_of_tokens)(X_val)\n",
    "\n",
    "    X_train_truth_counts = np.vectorize(count_truth_variations)(X_train)\n",
    "    X_val_truth_counts = np.vectorize(count_truth_variations)(X_val)\n",
    "\n",
    "    X_train_term_counts = np.vectorize(count_term_occurrences)(X_train)\n",
    "    X_val_term_counts = np.vectorize(count_term_occurrences)(X_val)\n",
    "\n",
    "    models = [\n",
    "        'Random Guessing',\n",
    "        'Guessing Most Frequent',\n",
    "        'Logistic Regression - Content Length',\n",
    "        'Logistic Regression - Token Length',\n",
    "        'Logistic Regression - Number of Tokens',\n",
    "        'Logistic Regression - Number of Truth Variations',\n",
    "        'Logistic Regression - Term Counts'\n",
    "    ]\n",
    "\n",
    "    accuracies = [\n",
    "        random_guessing_performance(X_train, y_train, X_val, y_val),\n",
    "        guessing_most_frequent_performance(X_train, y_train, X_val, y_val),\n",
    "        logistic_regression_performance(X_train_content_length, y_train, X_val_content_length, y_val),\n",
    "        logistic_regression_performance(X_train_token_length, y_train, X_val_token_length, y_val),\n",
    "        logistic_regression_performance(X_train_number_of_tokens, y_train, X_val_number_of_tokens, y_val),\n",
    "        logistic_regression_performance(X_train_truth_counts, y_train, X_val_truth_counts, y_val),\n",
    "        logistic_regression_performance(X_train_term_counts, y_train, X_val_term_counts, y_val, saveName=\"logistic_regression_term_counts.joblib\")\n",
    "    ]\n",
    "\n",
    "    display_model_comparisons(models, accuracies, title)"
   ]
  },
  {
   "cell_type": "code",
   "execution_count": 6,
   "id": "3e7b8dfb819c6851",
   "metadata": {
    "ExecuteTime": {
     "end_time": "2024-03-25T18:23:21.199606Z",
     "start_time": "2024-03-25T18:21:10.822198Z"
    }
   },
   "outputs": [
    {
     "name": "stdout",
     "output_type": "stream",
     "text": [
      "Accuracy of Uniform Random classifier: 0.5007\n",
      "Accuracy of Most Frequent classifier: 0.5106\n",
      "fitting logistic regression...\n",
      "Fitting 3 folds for each of 32 candidates, totalling 96 fits\n",
      "Accuracy of Logistic Regression classifier: 0.5945\n",
      "finished fitting logistic regression in: 5.357 seconds\n",
      "fitting logistic regression...\n",
      "Fitting 3 folds for each of 32 candidates, totalling 96 fits\n",
      "Accuracy of Logistic Regression classifier: 0.5154\n",
      "finished fitting logistic regression in: 3.351 seconds\n",
      "fitting logistic regression...\n",
      "Fitting 3 folds for each of 32 candidates, totalling 96 fits\n",
      "Accuracy of Logistic Regression classifier: 0.5906\n",
      "finished fitting logistic regression in: 4.579 seconds\n",
      "fitting logistic regression...\n",
      "Fitting 3 folds for each of 32 candidates, totalling 96 fits\n",
      "Accuracy of Logistic Regression classifier: 0.5154\n",
      "finished fitting logistic regression in: 3.161 seconds\n",
      "fitting logistic regression...\n",
      "Fitting 3 folds for each of 32 candidates, totalling 96 fits\n",
      "Accuracy of Logistic Regression classifier: 0.6372\n",
      "finished fitting logistic regression in: 4.865 seconds\n"
     ]
    },
    {
     "data": {
      "image/png": "[encoded data removed]",
      "text/plain": [
       "<Figure size 1000x500 with 1 Axes>"
      ]
     },
     "metadata": {},
     "output_type": "display_data"
    }
   ],
   "source": [
    "compare_baseline_models_on_content_features(X_train.reshape(-1, 1), y_train, X_val.reshape(-1, 1), y_val)"
   ]
  },
  {
   "cell_type": "markdown",
   "id": "291b44dab2c9f3bf",
   "metadata": {},
   "source": [
    "## Task 3"
   ]
  },
  {
   "cell_type": "code",
   "execution_count": 5,
   "id": "2f65a0c02b47192d",
   "metadata": {
    "ExecuteTime": {
     "end_time": "2024-03-26T08:21:33.325894Z",
     "start_time": "2024-03-26T08:21:33.190291Z"
    }
   },
   "outputs": [
    {
     "name": "stdout",
     "output_type": "stream",
     "text": [
      "reading and splitting data...\n",
      "finished reading and splitting data in: 0.143 seconds\n"
     ]
    }
   ],
   "source": [
    "print('reading and splitting data...')\n",
    "start_time = time.time()\n",
    "\n",
    "path = 'bbc_cleaned.csv'\n",
    "df_scraped = pd.read_csv(path)\n",
    "df_scraped = prepare_data(df_scraped)\n",
    "\n",
    "X = np.concatenate((X, np.array(df_scraped['content'] )))\n",
    "y = np.concatenate((y, np.ones(len(df_scraped['content']))))\n",
    "\n",
    "X_train, X_temp, y_train, y_temp = train_test_split(X, y, test_size=0.2, random_state=27)\n",
    "X_val, X_test, y_val, y_test = train_test_split(X_temp, y_temp, test_size=0.5, random_state=27)\n",
    "\n",
    "elapsed_time = time.time() - start_time\n",
    "print(f\"finished reading and splitting data in: {elapsed_time:.3f} seconds\")"
   ]
  },
  {
   "cell_type": "code",
   "execution_count": null,
   "id": "40ac346f8a5efcbe",
   "metadata": {},
   "outputs": [],
   "source": [
    "compare_baseline_models_on_content_features(X_train.reshape(-1, 1), y_train, X_val.reshape(-1, 1), y_val,\n",
    "                                            title=\"Model Accuracies with scraped data\")"
   ]
  },
  {
   "cell_type": "markdown",
   "id": "ca1a2869cef7601f",
   "metadata": {},
   "source": [
    "# Part 3"
   ]
  },
  {
   "cell_type": "code",
   "execution_count": 6,
   "id": "554ec620758a5dac",
   "metadata": {
    "ExecuteTime": {
     "end_time": "2024-03-26T08:23:27.804257Z",
     "start_time": "2024-03-26T08:23:27.785231Z"
    }
   },
   "outputs": [],
   "source": [
    "def normalize_vectors(vectors):\n",
    "    \"\"\"\n",
    "    Normalize each vector in the list of vectors.\n",
    "    Each vector is divided by its L2 norm. The vectors are assumed to be 11-dimensional,\n",
    "    with the last element being the length of the text.\n",
    "    \"\"\"\n",
    "    normalized = np.array(vectors, dtype=float)  # Ensure the array is in float for division\n",
    "    norms = np.linalg.norm(normalized, axis=1, keepdims=True)\n",
    "    norms[norms == 0] = 1  # Prevent division by zero\n",
    "    return normalized / norms\n",
    "\n",
    "def count_term_occurrences_as_vectors(text):\n",
    "    words = ['said', 'mr', 'new', 'iran', 'iranian', 'year', 'york', 'rec', 'main', 'newslett']\n",
    "    if isinstance(text, str):\n",
    "        counts = [0] * len(words)\n",
    "        for i, word in enumerate(words):\n",
    "            pattern = re.compile(r'\\b' + word + r'\\b', re.IGNORECASE)\n",
    "            counts[i] = len(pattern.findall(text))\n",
    "        counts.append(len(text))  # Append the length of the text as the 11th dimension\n",
    "        return counts\n",
    "    else:\n",
    "        return [0] * (len(words) + 1)  # Include a slot for text length"
   ]
  },
  {
   "cell_type": "code",
   "execution_count": null,
   "id": "7b68eb0f30e4fce1",
   "metadata": {},
   "outputs": [],
   "source": [
    "# Assuming X_train and X_val are defined and are arrays of text data\n",
    "X_train_count_terms = np.array([count_term_occurrences_as_vectors(text) for text in X_train])\n",
    "X_val_count_terms = np.array([count_term_occurrences_as_vectors(text) for text in X_val])\n",
    "\n",
    "# Normalize the vectors\n",
    "X_train_count_terms_normalized = normalize_vectors(X_train_count_terms)\n",
    "X_val_count_terms_normalized = normalize_vectors(X_val_count_terms)\n",
    "\n",
    "models = [\n",
    "    'Logistic Regression',\n",
    "    'Logistic Regression Normalized'\n",
    "]\n",
    "\n",
    "accuracies = [\n",
    "    logistic_regression_performance(X_train_count_terms, y_train, X_val_count_terms, y_val),\n",
    "    logistic_regression_performance(X_train_count_terms_normalized, y_train, X_val_count_terms_normalized, y_val, saveName=\"logistic_regression_vector_features.joblib\")\n",
    "]\n",
    "\n",
    "display_model_comparisons(models, accuracies, title=\"Logistic Regression with vectors for terms\")"
   ]
  },
  {
   "cell_type": "code",
   "execution_count": 9,
   "id": "88bdaa7eeadfb129",
   "metadata": {
    "ExecuteTime": {
     "end_time": "2024-03-25T18:34:26.847540Z",
     "start_time": "2024-03-25T18:28:26.739113Z"
    }
   },
   "outputs": [
    {
     "name": "stdout",
     "output_type": "stream",
     "text": [
      "Epoch 1/100\n"
     ]
    },
    {
     "name": "stderr",
     "output_type": "stream",
     "text": [
      "/Users/maxmeldal/anaconda3/lib/python3.11/site-packages/keras/src/layers/core/dense.py:88: UserWarning: Do not pass an `input_shape`/`input_dim` argument to a layer. When using Sequential models, prefer using an `Input(shape)` object as the first layer in the model instead.\n",
      "  super().__init__(activity_regularizer=activity_regularizer, **kwargs)\n"
     ]
    },
    {
     "name": "stdout",
     "output_type": "stream",
     "text": [
      "\u001b[1m20395/20395\u001b[0m \u001b[32m━━━━━━━━━━━━━━━━━━━━\u001b[0m\u001b[37m\u001b[0m \u001b[1m12s\u001b[0m 539us/step - accuracy: 0.6799 - loss: 0.6158 - val_accuracy: 0.5105 - val_loss: 1.7731 - learning_rate: 0.0010\n",
      "Epoch 2/100\n",
      "\u001b[1m20395/20395\u001b[0m \u001b[32m━━━━━━━━━━━━━━━━━━━━\u001b[0m\u001b[37m\u001b[0m \u001b[1m11s\u001b[0m 536us/step - accuracy: 0.6885 - loss: 0.5784 - val_accuracy: 0.4895 - val_loss: 2.1715 - learning_rate: 0.0010\n",
      "Epoch 3/100\n",
      "\u001b[1m20395/20395\u001b[0m \u001b[32m━━━━━━━━━━━━━━━━━━━━\u001b[0m\u001b[37m\u001b[0m \u001b[1m11s\u001b[0m 555us/step - accuracy: 0.6887 - loss: 0.5757 - val_accuracy: 0.4895 - val_loss: 1.8681 - learning_rate: 0.0010\n",
      "Epoch 4/100\n",
      "\u001b[1m20395/20395\u001b[0m \u001b[32m━━━━━━━━━━━━━━━━━━━━\u001b[0m\u001b[37m\u001b[0m \u001b[1m11s\u001b[0m 541us/step - accuracy: 0.6893 - loss: 0.5744 - val_accuracy: 0.5105 - val_loss: 1.4818 - learning_rate: 0.0010\n",
      "Epoch 5/100\n",
      "\u001b[1m20395/20395\u001b[0m \u001b[32m━━━━━━━━━━━━━━━━━━━━\u001b[0m\u001b[37m\u001b[0m \u001b[1m11s\u001b[0m 544us/step - accuracy: 0.6890 - loss: 0.5751 - val_accuracy: 0.4896 - val_loss: 1.0921 - learning_rate: 0.0010\n",
      "Epoch 6/100\n",
      "\u001b[1m20395/20395\u001b[0m \u001b[32m━━━━━━━━━━━━━━━━━━━━\u001b[0m\u001b[37m\u001b[0m \u001b[1m11s\u001b[0m 546us/step - accuracy: 0.6899 - loss: 0.5741 - val_accuracy: 0.4896 - val_loss: 2.2847 - learning_rate: 0.0010\n",
      "Epoch 7/100\n",
      "\u001b[1m20395/20395\u001b[0m \u001b[32m━━━━━━━━━━━━━━━━━━━━\u001b[0m\u001b[37m\u001b[0m \u001b[1m11s\u001b[0m 537us/step - accuracy: 0.6883 - loss: 0.5758 - val_accuracy: 0.5105 - val_loss: 7.1424 - learning_rate: 0.0010\n",
      "Epoch 8/100\n",
      "\u001b[1m20395/20395\u001b[0m \u001b[32m━━━━━━━━━━━━━━━━━━━━\u001b[0m\u001b[37m\u001b[0m \u001b[1m11s\u001b[0m 529us/step - accuracy: 0.6888 - loss: 0.5762 - val_accuracy: 0.5105 - val_loss: 3.7542 - learning_rate: 0.0010\n",
      "Epoch 9/100\n",
      "\u001b[1m20395/20395\u001b[0m \u001b[32m━━━━━━━━━━━━━━━━━━━━\u001b[0m\u001b[37m\u001b[0m \u001b[1m11s\u001b[0m 543us/step - accuracy: 0.6875 - loss: 0.5762 - val_accuracy: 0.5775 - val_loss: 0.6699 - learning_rate: 0.0010\n",
      "Epoch 10/100\n",
      "\u001b[1m20395/20395\u001b[0m \u001b[32m━━━━━━━━━━━━━━━━━━━━\u001b[0m\u001b[37m\u001b[0m \u001b[1m11s\u001b[0m 530us/step - accuracy: 0.6881 - loss: 0.5775 - val_accuracy: 0.4897 - val_loss: 0.9339 - learning_rate: 0.0010\n",
      "Epoch 11/100\n",
      "\u001b[1m20395/20395\u001b[0m \u001b[32m━━━━━━━━━━━━━━━━━━━━\u001b[0m\u001b[37m\u001b[0m \u001b[1m11s\u001b[0m 531us/step - accuracy: 0.6877 - loss: 0.5770 - val_accuracy: 0.4895 - val_loss: 1.8758 - learning_rate: 0.0010\n",
      "Epoch 12/100\n",
      "\u001b[1m20395/20395\u001b[0m \u001b[32m━━━━━━━━━━━━━━━━━━━━\u001b[0m\u001b[37m\u001b[0m \u001b[1m11s\u001b[0m 521us/step - accuracy: 0.6860 - loss: 0.5776 - val_accuracy: 0.4989 - val_loss: 0.7102 - learning_rate: 0.0010\n",
      "Epoch 13/100\n",
      "\u001b[1m20395/20395\u001b[0m \u001b[32m━━━━━━━━━━━━━━━━━━━━\u001b[0m\u001b[37m\u001b[0m \u001b[1m11s\u001b[0m 535us/step - accuracy: 0.6840 - loss: 0.5800 - val_accuracy: 0.5111 - val_loss: 0.6426 - learning_rate: 0.0010\n",
      "Epoch 14/100\n",
      "\u001b[1m20395/20395\u001b[0m \u001b[32m━━━━━━━━━━━━━━━━━━━━\u001b[0m\u001b[37m\u001b[0m \u001b[1m11s\u001b[0m 542us/step - accuracy: 0.6835 - loss: 0.5807 - val_accuracy: 0.4999 - val_loss: 1.0934 - learning_rate: 0.0010\n",
      "Epoch 15/100\n",
      "\u001b[1m20395/20395\u001b[0m \u001b[32m━━━━━━━━━━━━━━━━━━━━\u001b[0m\u001b[37m\u001b[0m \u001b[1m10s\u001b[0m 513us/step - accuracy: 0.6828 - loss: 0.5831 - val_accuracy: 0.4895 - val_loss: 1.8508 - learning_rate: 0.0010\n",
      "Epoch 16/100\n",
      "\u001b[1m20395/20395\u001b[0m \u001b[32m━━━━━━━━━━━━━━━━━━━━\u001b[0m\u001b[37m\u001b[0m \u001b[1m11s\u001b[0m 516us/step - accuracy: 0.6799 - loss: 0.5843 - val_accuracy: 0.6562 - val_loss: 0.6374 - learning_rate: 0.0010\n",
      "Epoch 17/100\n",
      "\u001b[1m20395/20395\u001b[0m \u001b[32m━━━━━━━━━━━━━━━━━━━━\u001b[0m\u001b[37m\u001b[0m \u001b[1m10s\u001b[0m 506us/step - accuracy: 0.6832 - loss: 0.5832 - val_accuracy: 0.5105 - val_loss: 9.6318 - learning_rate: 0.0010\n",
      "Epoch 18/100\n",
      "\u001b[1m20395/20395\u001b[0m \u001b[32m━━━━━━━━━━━━━━━━━━━━\u001b[0m\u001b[37m\u001b[0m \u001b[1m11s\u001b[0m 516us/step - accuracy: 0.6816 - loss: 0.5829 - val_accuracy: 0.5200 - val_loss: 0.7432 - learning_rate: 0.0010\n",
      "Epoch 19/100\n",
      "\u001b[1m20395/20395\u001b[0m \u001b[32m━━━━━━━━━━━━━━━━━━━━\u001b[0m\u001b[37m\u001b[0m \u001b[1m10s\u001b[0m 511us/step - accuracy: 0.6855 - loss: 0.5810 - val_accuracy: 0.5107 - val_loss: 0.6584 - learning_rate: 0.0010\n",
      "Epoch 20/100\n",
      "\u001b[1m20395/20395\u001b[0m \u001b[32m━━━━━━━━━━━━━━━━━━━━\u001b[0m\u001b[37m\u001b[0m \u001b[1m10s\u001b[0m 481us/step - accuracy: 0.6826 - loss: 0.5824 - val_accuracy: 0.4895 - val_loss: 0.7653 - learning_rate: 0.0010\n",
      "Epoch 21/100\n",
      "\u001b[1m20395/20395\u001b[0m \u001b[32m━━━━━━━━━━━━━━━━━━━━\u001b[0m\u001b[37m\u001b[0m \u001b[1m10s\u001b[0m 497us/step - accuracy: 0.6715 - loss: 0.5921 - val_accuracy: 0.5105 - val_loss: 1.2353 - learning_rate: 0.0010\n",
      "Epoch 22/100\n",
      "\u001b[1m20395/20395\u001b[0m \u001b[32m━━━━━━━━━━━━━━━━━━━━\u001b[0m\u001b[37m\u001b[0m \u001b[1m10s\u001b[0m 485us/step - accuracy: 0.6711 - loss: 0.5936 - val_accuracy: 0.4895 - val_loss: 2.0888 - learning_rate: 0.0010\n",
      "Epoch 23/100\n",
      "\u001b[1m20395/20395\u001b[0m \u001b[32m━━━━━━━━━━━━━━━━━━━━\u001b[0m\u001b[37m\u001b[0m \u001b[1m10s\u001b[0m 486us/step - accuracy: 0.6706 - loss: 0.5924 - val_accuracy: 0.4895 - val_loss: 2.1878 - learning_rate: 0.0010\n",
      "Epoch 24/100\n",
      "\u001b[1m20395/20395\u001b[0m \u001b[32m━━━━━━━━━━━━━━━━━━━━\u001b[0m\u001b[37m\u001b[0m \u001b[1m10s\u001b[0m 485us/step - accuracy: 0.6510 - loss: 0.6074 - val_accuracy: 0.6982 - val_loss: 0.5637 - learning_rate: 0.0010\n",
      "Epoch 25/100\n",
      "\u001b[1m20395/20395\u001b[0m \u001b[32m━━━━━━━━━━━━━━━━━━━━\u001b[0m\u001b[37m\u001b[0m \u001b[1m10s\u001b[0m 480us/step - accuracy: 0.6522 - loss: 0.6068 - val_accuracy: 0.4927 - val_loss: 0.9381 - learning_rate: 0.0010\n",
      "Epoch 26/100\n",
      "\u001b[1m20395/20395\u001b[0m \u001b[32m━━━━━━━━━━━━━━━━━━━━\u001b[0m\u001b[37m\u001b[0m \u001b[1m10s\u001b[0m 490us/step - accuracy: 0.6528 - loss: 0.6060 - val_accuracy: 0.6019 - val_loss: 0.6769 - learning_rate: 0.0010\n",
      "Epoch 27/100\n",
      "\u001b[1m20395/20395\u001b[0m \u001b[32m━━━━━━━━━━━━━━━━━━━━\u001b[0m\u001b[37m\u001b[0m \u001b[1m10s\u001b[0m 479us/step - accuracy: 0.6525 - loss: 0.6065 - val_accuracy: 0.5105 - val_loss: 2.5874 - learning_rate: 0.0010\n",
      "Epoch 28/100\n",
      "\u001b[1m20395/20395\u001b[0m \u001b[32m━━━━━━━━━━━━━━━━━━━━\u001b[0m\u001b[37m\u001b[0m \u001b[1m10s\u001b[0m 485us/step - accuracy: 0.6465 - loss: 0.6108 - val_accuracy: 0.4896 - val_loss: 1.4142 - learning_rate: 0.0010\n",
      "Epoch 29/100\n",
      "\u001b[1m20395/20395\u001b[0m \u001b[32m━━━━━━━━━━━━━━━━━━━━\u001b[0m\u001b[37m\u001b[0m \u001b[1m10s\u001b[0m 479us/step - accuracy: 0.6536 - loss: 0.6051 - val_accuracy: 0.4898 - val_loss: 1.1889 - learning_rate: 0.0010\n",
      "Epoch 30/100\n",
      "\u001b[1m20395/20395\u001b[0m \u001b[32m━━━━━━━━━━━━━━━━━━━━\u001b[0m\u001b[37m\u001b[0m \u001b[1m10s\u001b[0m 478us/step - accuracy: 0.6536 - loss: 0.6063 - val_accuracy: 0.5105 - val_loss: 2.0151 - learning_rate: 0.0010\n",
      "Epoch 31/100\n",
      "\u001b[1m20395/20395\u001b[0m \u001b[32m━━━━━━━━━━━━━━━━━━━━\u001b[0m\u001b[37m\u001b[0m \u001b[1m10s\u001b[0m 480us/step - accuracy: 0.6548 - loss: 0.6056 - val_accuracy: 0.5105 - val_loss: 5.1512 - learning_rate: 0.0010\n",
      "Epoch 32/100\n",
      "\u001b[1m20395/20395\u001b[0m \u001b[32m━━━━━━━━━━━━━━━━━━━━\u001b[0m\u001b[37m\u001b[0m \u001b[1m10s\u001b[0m 479us/step - accuracy: 0.6529 - loss: 0.6064 - val_accuracy: 0.4895 - val_loss: 1.6554 - learning_rate: 0.0010\n",
      "Epoch 33/100\n",
      "\u001b[1m20395/20395\u001b[0m \u001b[32m━━━━━━━━━━━━━━━━━━━━\u001b[0m\u001b[37m\u001b[0m \u001b[1m10s\u001b[0m 480us/step - accuracy: 0.6531 - loss: 0.6063 - val_accuracy: 0.5480 - val_loss: 0.7069 - learning_rate: 0.0010\n",
      "Epoch 34/100\n",
      "\u001b[1m20395/20395\u001b[0m \u001b[32m━━━━━━━━━━━━━━━━━━━━\u001b[0m\u001b[37m\u001b[0m \u001b[1m10s\u001b[0m 492us/step - accuracy: 0.6495 - loss: 0.6083 - val_accuracy: 0.5239 - val_loss: 0.7407 - learning_rate: 0.0010\n",
      "\u001b[1m2550/2550\u001b[0m \u001b[32m━━━━━━━━━━━━━━━━━━━━\u001b[0m\u001b[37m\u001b[0m \u001b[1m1s\u001b[0m 211us/step - accuracy: 0.6974 - loss: 0.5647\n",
      "Validation Loss: 0.5637, Validation Accuracy: 0.6982\n"
     ]
    },
    {
     "data": {
      "image/png": "[encoded data removed]",
      "text/plain": [
       "<Figure size 1000x500 with 1 Axes>"
      ]
     },
     "metadata": {},
     "output_type": "display_data"
    },
    {
     "ename": "PicklingError",
     "evalue": "Can't pickle <function Layer._initializer_tracker.<locals>.<lambda> at 0x1353f4540>: it's not found as keras.src.layers.layer.Layer._initializer_tracker.<locals>.<lambda>",
     "output_type": "error",
     "traceback": [
      "\u001b[0;31m---------------------------------------------------------------------------\u001b[0m",
      "\u001b[0;31mPicklingError\u001b[0m                             Traceback (most recent call last)",
      "Cell \u001b[0;32mIn[9], line 45\u001b[0m\n\u001b[1;32m     43\u001b[0m \u001b[38;5;66;03m# Assuming display_model_comparisons is a function to visualize model comparisons\u001b[39;00m\n\u001b[1;32m     44\u001b[0m display_model_comparisons(models, accuracies, title\u001b[38;5;241m=\u001b[39m\u001b[38;5;124m\"\u001b[39m\u001b[38;5;124mAdvanced Model Accuracies\u001b[39m\u001b[38;5;124m\"\u001b[39m)\n\u001b[0;32m---> 45\u001b[0m dump(model, \u001b[38;5;124m\"\u001b[39m\u001b[38;5;124mneural_net.joblib\u001b[39m\u001b[38;5;124m\"\u001b[39m)\n",
      "File \u001b[0;32m~/anaconda3/lib/python3.11/site-packages/joblib/numpy_pickle.py:553\u001b[0m, in \u001b[0;36mdump\u001b[0;34m(value, filename, compress, protocol, cache_size)\u001b[0m\n\u001b[1;32m    551\u001b[0m \u001b[38;5;28;01melif\u001b[39;00m is_filename:\n\u001b[1;32m    552\u001b[0m     \u001b[38;5;28;01mwith\u001b[39;00m \u001b[38;5;28mopen\u001b[39m(filename, \u001b[38;5;124m'\u001b[39m\u001b[38;5;124mwb\u001b[39m\u001b[38;5;124m'\u001b[39m) \u001b[38;5;28;01mas\u001b[39;00m f:\n\u001b[0;32m--> 553\u001b[0m         NumpyPickler(f, protocol\u001b[38;5;241m=\u001b[39mprotocol)\u001b[38;5;241m.\u001b[39mdump(value)\n\u001b[1;32m    554\u001b[0m \u001b[38;5;28;01melse\u001b[39;00m:\n\u001b[1;32m    555\u001b[0m     NumpyPickler(filename, protocol\u001b[38;5;241m=\u001b[39mprotocol)\u001b[38;5;241m.\u001b[39mdump(value)\n",
      "File \u001b[0;32m~/anaconda3/lib/python3.11/pickle.py:487\u001b[0m, in \u001b[0;36m_Pickler.dump\u001b[0;34m(self, obj)\u001b[0m\n\u001b[1;32m    485\u001b[0m \u001b[38;5;28;01mif\u001b[39;00m \u001b[38;5;28mself\u001b[39m\u001b[38;5;241m.\u001b[39mproto \u001b[38;5;241m>\u001b[39m\u001b[38;5;241m=\u001b[39m \u001b[38;5;241m4\u001b[39m:\n\u001b[1;32m    486\u001b[0m     \u001b[38;5;28mself\u001b[39m\u001b[38;5;241m.\u001b[39mframer\u001b[38;5;241m.\u001b[39mstart_framing()\n\u001b[0;32m--> 487\u001b[0m \u001b[38;5;28mself\u001b[39m\u001b[38;5;241m.\u001b[39msave(obj)\n\u001b[1;32m    488\u001b[0m \u001b[38;5;28mself\u001b[39m\u001b[38;5;241m.\u001b[39mwrite(STOP)\n\u001b[1;32m    489\u001b[0m \u001b[38;5;28mself\u001b[39m\u001b[38;5;241m.\u001b[39mframer\u001b[38;5;241m.\u001b[39mend_framing()\n",
      "File \u001b[0;32m~/anaconda3/lib/python3.11/site-packages/joblib/numpy_pickle.py:355\u001b[0m, in \u001b[0;36mNumpyPickler.save\u001b[0;34m(self, obj)\u001b[0m\n\u001b[1;32m    352\u001b[0m     wrapper\u001b[38;5;241m.\u001b[39mwrite_array(obj, \u001b[38;5;28mself\u001b[39m)\n\u001b[1;32m    353\u001b[0m     \u001b[38;5;28;01mreturn\u001b[39;00m\n\u001b[0;32m--> 355\u001b[0m \u001b[38;5;28;01mreturn\u001b[39;00m Pickler\u001b[38;5;241m.\u001b[39msave(\u001b[38;5;28mself\u001b[39m, obj)\n",
      "File \u001b[0;32m~/anaconda3/lib/python3.11/pickle.py:603\u001b[0m, in \u001b[0;36m_Pickler.save\u001b[0;34m(self, obj, save_persistent_id)\u001b[0m\n\u001b[1;32m    599\u001b[0m     \u001b[38;5;28;01mraise\u001b[39;00m PicklingError(\u001b[38;5;124m\"\u001b[39m\u001b[38;5;124mTuple returned by \u001b[39m\u001b[38;5;132;01m%s\u001b[39;00m\u001b[38;5;124m must have \u001b[39m\u001b[38;5;124m\"\u001b[39m\n\u001b[1;32m    600\u001b[0m                         \u001b[38;5;124m\"\u001b[39m\u001b[38;5;124mtwo to six elements\u001b[39m\u001b[38;5;124m\"\u001b[39m \u001b[38;5;241m%\u001b[39m reduce)\n\u001b[1;32m    602\u001b[0m \u001b[38;5;66;03m# Save the reduce() output and finally memoize the object\u001b[39;00m\n\u001b[0;32m--> 603\u001b[0m \u001b[38;5;28mself\u001b[39m\u001b[38;5;241m.\u001b[39msave_reduce(obj\u001b[38;5;241m=\u001b[39mobj, \u001b[38;5;241m*\u001b[39mrv)\n",
      "File \u001b[0;32m~/anaconda3/lib/python3.11/pickle.py:717\u001b[0m, in \u001b[0;36m_Pickler.save_reduce\u001b[0;34m(self, func, args, state, listitems, dictitems, state_setter, obj)\u001b[0m\n\u001b[1;32m    715\u001b[0m \u001b[38;5;28;01mif\u001b[39;00m state \u001b[38;5;129;01mis\u001b[39;00m \u001b[38;5;129;01mnot\u001b[39;00m \u001b[38;5;28;01mNone\u001b[39;00m:\n\u001b[1;32m    716\u001b[0m     \u001b[38;5;28;01mif\u001b[39;00m state_setter \u001b[38;5;129;01mis\u001b[39;00m \u001b[38;5;28;01mNone\u001b[39;00m:\n\u001b[0;32m--> 717\u001b[0m         save(state)\n\u001b[1;32m    718\u001b[0m         write(BUILD)\n\u001b[1;32m    719\u001b[0m     \u001b[38;5;28;01melse\u001b[39;00m:\n\u001b[1;32m    720\u001b[0m         \u001b[38;5;66;03m# If a state_setter is specified, call it instead of load_build\u001b[39;00m\n\u001b[1;32m    721\u001b[0m         \u001b[38;5;66;03m# to update obj's with its previous state.\u001b[39;00m\n\u001b[1;32m    722\u001b[0m         \u001b[38;5;66;03m# First, push state_setter and its tuple of expected arguments\u001b[39;00m\n\u001b[1;32m    723\u001b[0m         \u001b[38;5;66;03m# (obj, state) onto the stack.\u001b[39;00m\n",
      "File \u001b[0;32m~/anaconda3/lib/python3.11/site-packages/joblib/numpy_pickle.py:355\u001b[0m, in \u001b[0;36mNumpyPickler.save\u001b[0;34m(self, obj)\u001b[0m\n\u001b[1;32m    352\u001b[0m     wrapper\u001b[38;5;241m.\u001b[39mwrite_array(obj, \u001b[38;5;28mself\u001b[39m)\n\u001b[1;32m    353\u001b[0m     \u001b[38;5;28;01mreturn\u001b[39;00m\n\u001b[0;32m--> 355\u001b[0m \u001b[38;5;28;01mreturn\u001b[39;00m Pickler\u001b[38;5;241m.\u001b[39msave(\u001b[38;5;28mself\u001b[39m, obj)\n",
      "File \u001b[0;32m~/anaconda3/lib/python3.11/pickle.py:560\u001b[0m, in \u001b[0;36m_Pickler.save\u001b[0;34m(self, obj, save_persistent_id)\u001b[0m\n\u001b[1;32m    558\u001b[0m f \u001b[38;5;241m=\u001b[39m \u001b[38;5;28mself\u001b[39m\u001b[38;5;241m.\u001b[39mdispatch\u001b[38;5;241m.\u001b[39mget(t)\n\u001b[1;32m    559\u001b[0m \u001b[38;5;28;01mif\u001b[39;00m f \u001b[38;5;129;01mis\u001b[39;00m \u001b[38;5;129;01mnot\u001b[39;00m \u001b[38;5;28;01mNone\u001b[39;00m:\n\u001b[0;32m--> 560\u001b[0m     f(\u001b[38;5;28mself\u001b[39m, obj)  \u001b[38;5;66;03m# Call unbound method with explicit self\u001b[39;00m\n\u001b[1;32m    561\u001b[0m     \u001b[38;5;28;01mreturn\u001b[39;00m\n\u001b[1;32m    563\u001b[0m \u001b[38;5;66;03m# Check private dispatch table if any, or else\u001b[39;00m\n\u001b[1;32m    564\u001b[0m \u001b[38;5;66;03m# copyreg.dispatch_table\u001b[39;00m\n",
      "File \u001b[0;32m~/anaconda3/lib/python3.11/pickle.py:972\u001b[0m, in \u001b[0;36m_Pickler.save_dict\u001b[0;34m(self, obj)\u001b[0m\n\u001b[1;32m    969\u001b[0m     \u001b[38;5;28mself\u001b[39m\u001b[38;5;241m.\u001b[39mwrite(MARK \u001b[38;5;241m+\u001b[39m DICT)\n\u001b[1;32m    971\u001b[0m \u001b[38;5;28mself\u001b[39m\u001b[38;5;241m.\u001b[39mmemoize(obj)\n\u001b[0;32m--> 972\u001b[0m \u001b[38;5;28mself\u001b[39m\u001b[38;5;241m.\u001b[39m_batch_setitems(obj\u001b[38;5;241m.\u001b[39mitems())\n",
      "File \u001b[0;32m~/anaconda3/lib/python3.11/pickle.py:998\u001b[0m, in \u001b[0;36m_Pickler._batch_setitems\u001b[0;34m(self, items)\u001b[0m\n\u001b[1;32m    996\u001b[0m     \u001b[38;5;28;01mfor\u001b[39;00m k, v \u001b[38;5;129;01min\u001b[39;00m tmp:\n\u001b[1;32m    997\u001b[0m         save(k)\n\u001b[0;32m--> 998\u001b[0m         save(v)\n\u001b[1;32m    999\u001b[0m     write(SETITEMS)\n\u001b[1;32m   1000\u001b[0m \u001b[38;5;28;01melif\u001b[39;00m n:\n",
      "File \u001b[0;32m~/anaconda3/lib/python3.11/site-packages/joblib/numpy_pickle.py:355\u001b[0m, in \u001b[0;36mNumpyPickler.save\u001b[0;34m(self, obj)\u001b[0m\n\u001b[1;32m    352\u001b[0m     wrapper\u001b[38;5;241m.\u001b[39mwrite_array(obj, \u001b[38;5;28mself\u001b[39m)\n\u001b[1;32m    353\u001b[0m     \u001b[38;5;28;01mreturn\u001b[39;00m\n\u001b[0;32m--> 355\u001b[0m \u001b[38;5;28;01mreturn\u001b[39;00m Pickler\u001b[38;5;241m.\u001b[39msave(\u001b[38;5;28mself\u001b[39m, obj)\n",
      "File \u001b[0;32m~/anaconda3/lib/python3.11/pickle.py:603\u001b[0m, in \u001b[0;36m_Pickler.save\u001b[0;34m(self, obj, save_persistent_id)\u001b[0m\n\u001b[1;32m    599\u001b[0m     \u001b[38;5;28;01mraise\u001b[39;00m PicklingError(\u001b[38;5;124m\"\u001b[39m\u001b[38;5;124mTuple returned by \u001b[39m\u001b[38;5;132;01m%s\u001b[39;00m\u001b[38;5;124m must have \u001b[39m\u001b[38;5;124m\"\u001b[39m\n\u001b[1;32m    600\u001b[0m                         \u001b[38;5;124m\"\u001b[39m\u001b[38;5;124mtwo to six elements\u001b[39m\u001b[38;5;124m\"\u001b[39m \u001b[38;5;241m%\u001b[39m reduce)\n\u001b[1;32m    602\u001b[0m \u001b[38;5;66;03m# Save the reduce() output and finally memoize the object\u001b[39;00m\n\u001b[0;32m--> 603\u001b[0m \u001b[38;5;28mself\u001b[39m\u001b[38;5;241m.\u001b[39msave_reduce(obj\u001b[38;5;241m=\u001b[39mobj, \u001b[38;5;241m*\u001b[39mrv)\n",
      "File \u001b[0;32m~/anaconda3/lib/python3.11/pickle.py:717\u001b[0m, in \u001b[0;36m_Pickler.save_reduce\u001b[0;34m(self, func, args, state, listitems, dictitems, state_setter, obj)\u001b[0m\n\u001b[1;32m    715\u001b[0m \u001b[38;5;28;01mif\u001b[39;00m state \u001b[38;5;129;01mis\u001b[39;00m \u001b[38;5;129;01mnot\u001b[39;00m \u001b[38;5;28;01mNone\u001b[39;00m:\n\u001b[1;32m    716\u001b[0m     \u001b[38;5;28;01mif\u001b[39;00m state_setter \u001b[38;5;129;01mis\u001b[39;00m \u001b[38;5;28;01mNone\u001b[39;00m:\n\u001b[0;32m--> 717\u001b[0m         save(state)\n\u001b[1;32m    718\u001b[0m         write(BUILD)\n\u001b[1;32m    719\u001b[0m     \u001b[38;5;28;01melse\u001b[39;00m:\n\u001b[1;32m    720\u001b[0m         \u001b[38;5;66;03m# If a state_setter is specified, call it instead of load_build\u001b[39;00m\n\u001b[1;32m    721\u001b[0m         \u001b[38;5;66;03m# to update obj's with its previous state.\u001b[39;00m\n\u001b[1;32m    722\u001b[0m         \u001b[38;5;66;03m# First, push state_setter and its tuple of expected arguments\u001b[39;00m\n\u001b[1;32m    723\u001b[0m         \u001b[38;5;66;03m# (obj, state) onto the stack.\u001b[39;00m\n",
      "File \u001b[0;32m~/anaconda3/lib/python3.11/site-packages/joblib/numpy_pickle.py:355\u001b[0m, in \u001b[0;36mNumpyPickler.save\u001b[0;34m(self, obj)\u001b[0m\n\u001b[1;32m    352\u001b[0m     wrapper\u001b[38;5;241m.\u001b[39mwrite_array(obj, \u001b[38;5;28mself\u001b[39m)\n\u001b[1;32m    353\u001b[0m     \u001b[38;5;28;01mreturn\u001b[39;00m\n\u001b[0;32m--> 355\u001b[0m \u001b[38;5;28;01mreturn\u001b[39;00m Pickler\u001b[38;5;241m.\u001b[39msave(\u001b[38;5;28mself\u001b[39m, obj)\n",
      "File \u001b[0;32m~/anaconda3/lib/python3.11/pickle.py:560\u001b[0m, in \u001b[0;36m_Pickler.save\u001b[0;34m(self, obj, save_persistent_id)\u001b[0m\n\u001b[1;32m    558\u001b[0m f \u001b[38;5;241m=\u001b[39m \u001b[38;5;28mself\u001b[39m\u001b[38;5;241m.\u001b[39mdispatch\u001b[38;5;241m.\u001b[39mget(t)\n\u001b[1;32m    559\u001b[0m \u001b[38;5;28;01mif\u001b[39;00m f \u001b[38;5;129;01mis\u001b[39;00m \u001b[38;5;129;01mnot\u001b[39;00m \u001b[38;5;28;01mNone\u001b[39;00m:\n\u001b[0;32m--> 560\u001b[0m     f(\u001b[38;5;28mself\u001b[39m, obj)  \u001b[38;5;66;03m# Call unbound method with explicit self\u001b[39;00m\n\u001b[1;32m    561\u001b[0m     \u001b[38;5;28;01mreturn\u001b[39;00m\n\u001b[1;32m    563\u001b[0m \u001b[38;5;66;03m# Check private dispatch table if any, or else\u001b[39;00m\n\u001b[1;32m    564\u001b[0m \u001b[38;5;66;03m# copyreg.dispatch_table\u001b[39;00m\n",
      "File \u001b[0;32m~/anaconda3/lib/python3.11/pickle.py:972\u001b[0m, in \u001b[0;36m_Pickler.save_dict\u001b[0;34m(self, obj)\u001b[0m\n\u001b[1;32m    969\u001b[0m     \u001b[38;5;28mself\u001b[39m\u001b[38;5;241m.\u001b[39mwrite(MARK \u001b[38;5;241m+\u001b[39m DICT)\n\u001b[1;32m    971\u001b[0m \u001b[38;5;28mself\u001b[39m\u001b[38;5;241m.\u001b[39mmemoize(obj)\n\u001b[0;32m--> 972\u001b[0m \u001b[38;5;28mself\u001b[39m\u001b[38;5;241m.\u001b[39m_batch_setitems(obj\u001b[38;5;241m.\u001b[39mitems())\n",
      "File \u001b[0;32m~/anaconda3/lib/python3.11/pickle.py:998\u001b[0m, in \u001b[0;36m_Pickler._batch_setitems\u001b[0;34m(self, items)\u001b[0m\n\u001b[1;32m    996\u001b[0m     \u001b[38;5;28;01mfor\u001b[39;00m k, v \u001b[38;5;129;01min\u001b[39;00m tmp:\n\u001b[1;32m    997\u001b[0m         save(k)\n\u001b[0;32m--> 998\u001b[0m         save(v)\n\u001b[1;32m    999\u001b[0m     write(SETITEMS)\n\u001b[1;32m   1000\u001b[0m \u001b[38;5;28;01melif\u001b[39;00m n:\n",
      "File \u001b[0;32m~/anaconda3/lib/python3.11/site-packages/joblib/numpy_pickle.py:355\u001b[0m, in \u001b[0;36mNumpyPickler.save\u001b[0;34m(self, obj)\u001b[0m\n\u001b[1;32m    352\u001b[0m     wrapper\u001b[38;5;241m.\u001b[39mwrite_array(obj, \u001b[38;5;28mself\u001b[39m)\n\u001b[1;32m    353\u001b[0m     \u001b[38;5;28;01mreturn\u001b[39;00m\n\u001b[0;32m--> 355\u001b[0m \u001b[38;5;28;01mreturn\u001b[39;00m Pickler\u001b[38;5;241m.\u001b[39msave(\u001b[38;5;28mself\u001b[39m, obj)\n",
      "File \u001b[0;32m~/anaconda3/lib/python3.11/pickle.py:560\u001b[0m, in \u001b[0;36m_Pickler.save\u001b[0;34m(self, obj, save_persistent_id)\u001b[0m\n\u001b[1;32m    558\u001b[0m f \u001b[38;5;241m=\u001b[39m \u001b[38;5;28mself\u001b[39m\u001b[38;5;241m.\u001b[39mdispatch\u001b[38;5;241m.\u001b[39mget(t)\n\u001b[1;32m    559\u001b[0m \u001b[38;5;28;01mif\u001b[39;00m f \u001b[38;5;129;01mis\u001b[39;00m \u001b[38;5;129;01mnot\u001b[39;00m \u001b[38;5;28;01mNone\u001b[39;00m:\n\u001b[0;32m--> 560\u001b[0m     f(\u001b[38;5;28mself\u001b[39m, obj)  \u001b[38;5;66;03m# Call unbound method with explicit self\u001b[39;00m\n\u001b[1;32m    561\u001b[0m     \u001b[38;5;28;01mreturn\u001b[39;00m\n\u001b[1;32m    563\u001b[0m \u001b[38;5;66;03m# Check private dispatch table if any, or else\u001b[39;00m\n\u001b[1;32m    564\u001b[0m \u001b[38;5;66;03m# copyreg.dispatch_table\u001b[39;00m\n",
      "File \u001b[0;32m~/anaconda3/lib/python3.11/pickle.py:972\u001b[0m, in \u001b[0;36m_Pickler.save_dict\u001b[0;34m(self, obj)\u001b[0m\n\u001b[1;32m    969\u001b[0m     \u001b[38;5;28mself\u001b[39m\u001b[38;5;241m.\u001b[39mwrite(MARK \u001b[38;5;241m+\u001b[39m DICT)\n\u001b[1;32m    971\u001b[0m \u001b[38;5;28mself\u001b[39m\u001b[38;5;241m.\u001b[39mmemoize(obj)\n\u001b[0;32m--> 972\u001b[0m \u001b[38;5;28mself\u001b[39m\u001b[38;5;241m.\u001b[39m_batch_setitems(obj\u001b[38;5;241m.\u001b[39mitems())\n",
      "File \u001b[0;32m~/anaconda3/lib/python3.11/pickle.py:998\u001b[0m, in \u001b[0;36m_Pickler._batch_setitems\u001b[0;34m(self, items)\u001b[0m\n\u001b[1;32m    996\u001b[0m     \u001b[38;5;28;01mfor\u001b[39;00m k, v \u001b[38;5;129;01min\u001b[39;00m tmp:\n\u001b[1;32m    997\u001b[0m         save(k)\n\u001b[0;32m--> 998\u001b[0m         save(v)\n\u001b[1;32m    999\u001b[0m     write(SETITEMS)\n\u001b[1;32m   1000\u001b[0m \u001b[38;5;28;01melif\u001b[39;00m n:\n",
      "File \u001b[0;32m~/anaconda3/lib/python3.11/site-packages/joblib/numpy_pickle.py:355\u001b[0m, in \u001b[0;36mNumpyPickler.save\u001b[0;34m(self, obj)\u001b[0m\n\u001b[1;32m    352\u001b[0m     wrapper\u001b[38;5;241m.\u001b[39mwrite_array(obj, \u001b[38;5;28mself\u001b[39m)\n\u001b[1;32m    353\u001b[0m     \u001b[38;5;28;01mreturn\u001b[39;00m\n\u001b[0;32m--> 355\u001b[0m \u001b[38;5;28;01mreturn\u001b[39;00m Pickler\u001b[38;5;241m.\u001b[39msave(\u001b[38;5;28mself\u001b[39m, obj)\n",
      "File \u001b[0;32m~/anaconda3/lib/python3.11/pickle.py:560\u001b[0m, in \u001b[0;36m_Pickler.save\u001b[0;34m(self, obj, save_persistent_id)\u001b[0m\n\u001b[1;32m    558\u001b[0m f \u001b[38;5;241m=\u001b[39m \u001b[38;5;28mself\u001b[39m\u001b[38;5;241m.\u001b[39mdispatch\u001b[38;5;241m.\u001b[39mget(t)\n\u001b[1;32m    559\u001b[0m \u001b[38;5;28;01mif\u001b[39;00m f \u001b[38;5;129;01mis\u001b[39;00m \u001b[38;5;129;01mnot\u001b[39;00m \u001b[38;5;28;01mNone\u001b[39;00m:\n\u001b[0;32m--> 560\u001b[0m     f(\u001b[38;5;28mself\u001b[39m, obj)  \u001b[38;5;66;03m# Call unbound method with explicit self\u001b[39;00m\n\u001b[1;32m    561\u001b[0m     \u001b[38;5;28;01mreturn\u001b[39;00m\n\u001b[1;32m    563\u001b[0m \u001b[38;5;66;03m# Check private dispatch table if any, or else\u001b[39;00m\n\u001b[1;32m    564\u001b[0m \u001b[38;5;66;03m# copyreg.dispatch_table\u001b[39;00m\n",
      "File \u001b[0;32m~/anaconda3/lib/python3.11/pickle.py:887\u001b[0m, in \u001b[0;36m_Pickler.save_tuple\u001b[0;34m(self, obj)\u001b[0m\n\u001b[1;32m    885\u001b[0m \u001b[38;5;28;01mif\u001b[39;00m n \u001b[38;5;241m<\u001b[39m\u001b[38;5;241m=\u001b[39m \u001b[38;5;241m3\u001b[39m \u001b[38;5;129;01mand\u001b[39;00m \u001b[38;5;28mself\u001b[39m\u001b[38;5;241m.\u001b[39mproto \u001b[38;5;241m>\u001b[39m\u001b[38;5;241m=\u001b[39m \u001b[38;5;241m2\u001b[39m:\n\u001b[1;32m    886\u001b[0m     \u001b[38;5;28;01mfor\u001b[39;00m element \u001b[38;5;129;01min\u001b[39;00m obj:\n\u001b[0;32m--> 887\u001b[0m         save(element)\n\u001b[1;32m    888\u001b[0m     \u001b[38;5;66;03m# Subtle.  Same as in the big comment below.\u001b[39;00m\n\u001b[1;32m    889\u001b[0m     \u001b[38;5;28;01mif\u001b[39;00m \u001b[38;5;28mid\u001b[39m(obj) \u001b[38;5;129;01min\u001b[39;00m memo:\n",
      "File \u001b[0;32m~/anaconda3/lib/python3.11/site-packages/joblib/numpy_pickle.py:355\u001b[0m, in \u001b[0;36mNumpyPickler.save\u001b[0;34m(self, obj)\u001b[0m\n\u001b[1;32m    352\u001b[0m     wrapper\u001b[38;5;241m.\u001b[39mwrite_array(obj, \u001b[38;5;28mself\u001b[39m)\n\u001b[1;32m    353\u001b[0m     \u001b[38;5;28;01mreturn\u001b[39;00m\n\u001b[0;32m--> 355\u001b[0m \u001b[38;5;28;01mreturn\u001b[39;00m Pickler\u001b[38;5;241m.\u001b[39msave(\u001b[38;5;28mself\u001b[39m, obj)\n",
      "File \u001b[0;32m~/anaconda3/lib/python3.11/pickle.py:560\u001b[0m, in \u001b[0;36m_Pickler.save\u001b[0;34m(self, obj, save_persistent_id)\u001b[0m\n\u001b[1;32m    558\u001b[0m f \u001b[38;5;241m=\u001b[39m \u001b[38;5;28mself\u001b[39m\u001b[38;5;241m.\u001b[39mdispatch\u001b[38;5;241m.\u001b[39mget(t)\n\u001b[1;32m    559\u001b[0m \u001b[38;5;28;01mif\u001b[39;00m f \u001b[38;5;129;01mis\u001b[39;00m \u001b[38;5;129;01mnot\u001b[39;00m \u001b[38;5;28;01mNone\u001b[39;00m:\n\u001b[0;32m--> 560\u001b[0m     f(\u001b[38;5;28mself\u001b[39m, obj)  \u001b[38;5;66;03m# Call unbound method with explicit self\u001b[39;00m\n\u001b[1;32m    561\u001b[0m     \u001b[38;5;28;01mreturn\u001b[39;00m\n\u001b[1;32m    563\u001b[0m \u001b[38;5;66;03m# Check private dispatch table if any, or else\u001b[39;00m\n\u001b[1;32m    564\u001b[0m \u001b[38;5;66;03m# copyreg.dispatch_table\u001b[39;00m\n",
      "File \u001b[0;32m~/anaconda3/lib/python3.11/pickle.py:1071\u001b[0m, in \u001b[0;36m_Pickler.save_global\u001b[0;34m(self, obj, name)\u001b[0m\n\u001b[1;32m   1069\u001b[0m     obj2, parent \u001b[38;5;241m=\u001b[39m _getattribute(module, name)\n\u001b[1;32m   1070\u001b[0m \u001b[38;5;28;01mexcept\u001b[39;00m (\u001b[38;5;167;01mImportError\u001b[39;00m, \u001b[38;5;167;01mKeyError\u001b[39;00m, \u001b[38;5;167;01mAttributeError\u001b[39;00m):\n\u001b[0;32m-> 1071\u001b[0m     \u001b[38;5;28;01mraise\u001b[39;00m PicklingError(\n\u001b[1;32m   1072\u001b[0m         \u001b[38;5;124m\"\u001b[39m\u001b[38;5;124mCan\u001b[39m\u001b[38;5;124m'\u001b[39m\u001b[38;5;124mt pickle \u001b[39m\u001b[38;5;132;01m%r\u001b[39;00m\u001b[38;5;124m: it\u001b[39m\u001b[38;5;124m'\u001b[39m\u001b[38;5;124ms not found as \u001b[39m\u001b[38;5;132;01m%s\u001b[39;00m\u001b[38;5;124m.\u001b[39m\u001b[38;5;132;01m%s\u001b[39;00m\u001b[38;5;124m\"\u001b[39m \u001b[38;5;241m%\u001b[39m\n\u001b[1;32m   1073\u001b[0m         (obj, module_name, name)) \u001b[38;5;28;01mfrom\u001b[39;00m \u001b[38;5;28;01mNone\u001b[39;00m\n\u001b[1;32m   1074\u001b[0m \u001b[38;5;28;01melse\u001b[39;00m:\n\u001b[1;32m   1075\u001b[0m     \u001b[38;5;28;01mif\u001b[39;00m obj2 \u001b[38;5;129;01mis\u001b[39;00m \u001b[38;5;129;01mnot\u001b[39;00m obj:\n",
      "\u001b[0;31mPicklingError\u001b[0m: Can't pickle <function Layer._initializer_tracker.<locals>.<lambda> at 0x1353f4540>: it's not found as keras.src.layers.layer.Layer._initializer_tracker.<locals>.<lambda>"
     ]
    }
   ],
   "source": [
    "from tensorflow.keras import layers, regularizers\n",
    "from tensorflow.keras import models as md\n",
    "from tensorflow.keras import callbacks\n",
    "\n",
    "# Adjusted model architecture with more layers, neurons, dropout, and regularization\n",
    "model = md.Sequential([\n",
    "    layers.Dense(128, activation='relu', input_shape=(X_train_count_terms_normalized.shape[1],),\n",
    "                 kernel_regularizer=regularizers.l2(0.001)),\n",
    "    layers.BatchNormalization(),\n",
    "    layers.Dropout(0.5),\n",
    "    layers.Dense(64, activation='relu', kernel_regularizer=regularizers.l2(0.001)),\n",
    "    layers.BatchNormalization(),\n",
    "    layers.Dropout(0.5),\n",
    "    layers.Dense(32, activation='relu', kernel_regularizer=regularizers.l2(0.001)),\n",
    "    layers.Dropout(0.5),\n",
    "    layers.Dense(1, activation='sigmoid')\n",
    "])\n",
    "\n",
    "# Compile model with the Adam optimizer and a potentially adjusted learning rate\n",
    "model.compile(optimizer='adam',  # Consider experimenting with different learning rates\n",
    "              loss='binary_crossentropy',\n",
    "              metrics=['accuracy'])\n",
    "\n",
    "# Callbacks for early stopping and learning rate reduction\n",
    "early_stopping = callbacks.EarlyStopping(monitor='val_loss', patience=10, restore_best_weights=True)\n",
    "reduce_lr = callbacks.ReduceLROnPlateau(monitor='val_loss', factor=0.2, patience=5, min_lr=0.001)\n",
    "\n",
    "# Train the model with validation data and callbacks\n",
    "history = model.fit(X_train_count_terms_normalized, y_train,\n",
    "                    validation_data=(X_val_count_terms_normalized, y_val),\n",
    "                    epochs=100,  # Increased number of epochs with early stopping will regulate it\n",
    "                    batch_size=32,  # Consider experimenting with batch size\n",
    "                    callbacks=[early_stopping, reduce_lr])\n",
    "\n",
    "# Evaluate the model on the validation set\n",
    "val_loss, val_accuracy = model.evaluate(X_val_count_terms_normalized, y_val)\n",
    "print(f\"Validation Loss: {val_loss:.4f}, Validation Accuracy: {val_accuracy:.4f}\")\n",
    "\n",
    "# Assuming models and accuracies lists exist for comparison purposes\n",
    "models.append('Neural Net')\n",
    "accuracies.append(val_accuracy)\n",
    "\n",
    "# Assuming display_model_comparisons is a function to visualize model comparisons\n",
    "display_model_comparisons(models, accuracies, title=\"Advanced Model Accuracies\")\n",
    "dump(model, \"neural_net.joblib\")"
   ]
  },
  {
   "cell_type": "code",
   "execution_count": 10,
   "id": "6317a63c8a3bedb6",
   "metadata": {
    "ExecuteTime": {
     "end_time": "2024-03-25T19:59:28.600332Z",
     "start_time": "2024-03-25T19:55:12.672255Z"
    }
   },
   "outputs": [
    {
     "name": "stdout",
     "output_type": "stream",
     "text": [
      "creating embedding index\n",
      "finished creating embedding index in: 4.298 seconds\n",
      "fitting tokenizer\n",
      "finished fitting tokenizer in: 62.516 seconds\n",
      "converting content of articles to vectors\n",
      "finished converting articles in: 142.901 seconds\n",
      "padding\n",
      "finished padding in: 46.178 seconds\n"
     ]
    }
   ],
   "source": [
    "from tensorflow.keras.preprocessing.text import Tokenizer\n",
    "from tensorflow.keras.preprocessing.sequence import pad_sequences\n",
    "\n",
    "# Load pre-trained word embeddings\n",
    "print('creating embedding index')\n",
    "start_time = time.time()\n",
    "embedding_index = {}\n",
    "with open('glove.6B.100d.txt', 'r', encoding='utf-8') as f:\n",
    "    for line in f:\n",
    "        values = line.split()\n",
    "        word = values[0]\n",
    "        coefs = np.asarray(values[1:], dtype='float32')\n",
    "        embedding_index[word] = coefs\n",
    "        \n",
    "elapsed_time = time.time() - start_time\n",
    "print(f\"finished creating embedding index in: {elapsed_time:.3f} seconds\")\n",
    "\n",
    "# Assuming embedding_index is your dictionary containing word: embedding pairs from GloVe\n",
    "# Function to convert articles into averaged word embeddings\n",
    "def text_to_avg_vector(text_series, tokenizer, embedding_index, embedding_dim=100):\n",
    "    vectors = []\n",
    "    for text in text_series:\n",
    "        tokens = tokenizer.texts_to_sequences([text])[0]\n",
    "        article_vectors = [embedding_index.get(tokenizer.index_word[token], np.zeros(embedding_dim)) for token in tokens]\n",
    "        if article_vectors:\n",
    "            vectors.append(np.mean(article_vectors, axis=0))\n",
    "        else:\n",
    "            vectors.append(np.zeros(embedding_dim))\n",
    "    return np.array(vectors)\n",
    "\n",
    "# Tokenize text\n",
    "print('fitting tokenizer')\n",
    "start_time = time.time()\n",
    "tokenizer = Tokenizer()\n",
    "tokenizer.fit_on_texts(X)\n",
    "elapsed_time = time.time() - start_time\n",
    "print(f\"finished fitting tokenizer in: {elapsed_time:.3f} seconds\")\n",
    "\n",
    "# Convert each article to averaged word embeddings\n",
    "print('converting content of articles to vectors')\n",
    "start_time = time.time()\n",
    "X_train_embedded = text_to_avg_vector(X_train, tokenizer, embedding_index)\n",
    "X_val_embedded = text_to_avg_vector(X_val, tokenizer, embedding_index)\n",
    "elapsed_time = time.time() - start_time\n",
    "print(f\"finished converting articles in: {elapsed_time:.3f} seconds\")\n",
    "\n",
    "# Pad sequences\n",
    "print('padding')\n",
    "start_time = time.time()\n",
    "\n",
    "X_train_sequences = tokenizer.texts_to_sequences(X_train)\n",
    "X_train_padded = pad_sequences(X_train_sequences, maxlen=max([len(x) for x in X_train_sequences]))\n",
    "X_val_sequences = tokenizer.texts_to_sequences(X_val)\n",
    "X_val_padded = pad_sequences(X_val_sequences, maxlen=max([len(x) for x in X_val_sequences]))\n",
    "\n",
    "elapsed_time = time.time() - start_time\n",
    "print(f\"finished padding in: {elapsed_time:.3f} seconds\")\n",
    "\n",
    "models.append('Logistic regression embedded')\n",
    "accuracies.append(logistic_regression_performance(X_train_padded, y_train, X_val_padded, y_val, simple=True, saveName=\"logistic_regression_embedded.joblib\"))\n",
    "display_model_comparisons(models, accuracies, title=\"Advanced model accuracies\")"
   ]
  },
  {
   "cell_type": "code",
   "execution_count": null,
   "id": "bbebf386441eeace",
   "metadata": {
    "ExecuteTime": {
     "start_time": "2024-03-25T21:57:01.564240Z"
    },
    "is_executing": true
   },
   "outputs": [
    {
     "name": "stdout",
     "output_type": "stream",
     "text": [
      "naive bayes\n",
      "init vectorizer\n",
      "init pipeline\n",
      "fit model\n"
     ]
    }
   ],
   "source": [
    "from sklearn.feature_extraction.text import TfidfVectorizer\n",
    "from sklearn.naive_bayes import MultinomialNB\n",
    "from sklearn.pipeline import Pipeline, FeatureUnion\n",
    "from sklearn.preprocessing import FunctionTransformer\n",
    "\n",
    "print('naive bayes')\n",
    "start_time = time.time() \n",
    "\n",
    "def extract_features(X):\n",
    "    features = []\n",
    "    for text in X:\n",
    "        features.append([count_term_occurrences(text), extract_content_length(text)])\n",
    "    return features\n",
    "\n",
    "print('init vectorizer')\n",
    "# TfidfVectorizer for text vectorization\n",
    "tfidf_vect = TfidfVectorizer(ngram_range=(1, 3))\n",
    "\n",
    "print('init pipeline')\n",
    "# Pipeline\n",
    "pipeline = Pipeline([\n",
    "    ('features', FeatureUnion([\n",
    "        ('text', Pipeline([\n",
    "            ('vectorizer', tfidf_vect)\n",
    "        ])),\n",
    "        ('length_features', FunctionTransformer(extract_features, validate=False)),\n",
    "    ])),\n",
    "    ('classifier', MultinomialNB())\n",
    "])\n",
    "\n",
    "print('fit model')\n",
    "# Train the model\n",
    "pipeline.fit(X_train, y_train)\n",
    "\n",
    "print('make predictions')\n",
    "# Predictions\n",
    "predictions = pipeline.predict(X_val)\n",
    "\n",
    "# Evaluate the model\n",
    "accuracy = accuracy_score(y_val, predictions)\n",
    "print(f'Accuracy: {accuracy}')\n",
    "\n",
    "elapsed_time = time.time() - start_time\n",
    "print(f\"finished naive bayes in: {elapsed_time:.3f} seconds\")"
   ]
  },
  {
   "cell_type": "code",
   "execution_count": null,
   "id": "3941fa71a00eab1e",
   "metadata": {
    "ExecuteTime": {
     "end_time": "2024-03-26T08:43:24.239232Z",
     "start_time": "2024-03-26T08:43:23.921964Z"
    }
   },
   "outputs": [
    {
     "name": "stdout",
     "output_type": "stream",
     "text": [
      "init vectorizer...\n",
      "finished in: 52.016 seconds.\n",
      "tf_idf engineering...\n"
     ]
    }
   ],
   "source": [
    "from sklearn.feature_extraction.text import TfidfVectorizer\n",
    "\n",
    "print('init vectorizer...')\n",
    "start_time = time.time()\n",
    "\n",
    "# Initialize the TF-IDF Vectorizer\n",
    "tfidf_vect = TfidfVectorizer(ngram_range=(1, 1))\n",
    "X_tfidf = tfidf_vect.fit_transform(X_train)\n",
    "\n",
    "elapsed_time = time.time() - start_time\n",
    "print(f\"finished in: {elapsed_time:.3f} seconds.\")\n",
    "\n",
    "def tf_idf_engineering(X):\n",
    "    \n",
    "    # Extract custom features\n",
    "    custom_features = np.array([[count_term_occurrences(text), extract_content_length(text)] for text in X])\n",
    "    #custom_features = np.array([[count_term_occurrences_as_vectors(text)] for text in X])\n",
    "    \n",
    "    # Combine TF-IDF features with custom features\n",
    "    # Note: Need to convert TF-IDF sparse matrix to dense format to concatenate with custom features\n",
    "    X_combined = np.hstack((X_tfidf.toarray(), custom_features))\n",
    "    \n",
    "    return X_combined\n",
    "\n",
    "print('tf_idf engineering...')\n",
    "start_time = time.time()\n",
    "X_train_tf = tf_idf_engineering(X_train[:1000])\n",
    "elapsed_time = time.time() - start_time\n",
    "print(f\"finished in: {elapsed_time:.3f} seconds.\")\n",
    "#X_val_tf = tf_idf_engineering(X_val)\n",
    "\n",
    "print('number of inputs: ', len(X_train_tf))\n",
    "print('dimensions: ', len(X_train_tf[0]))"
   ]
  },
  {
   "cell_type": "code",
   "execution_count": 8,
   "id": "d5e328134d02451e",
   "metadata": {
    "ExecuteTime": {
     "end_time": "2024-03-26T08:23:41.313114Z",
     "start_time": "2024-03-26T08:23:37.281247Z"
    }
   },
   "outputs": [
    {
     "name": "stdout",
     "output_type": "stream",
     "text": [
      "tf_idf engineering...\n",
      "finished in: 3.216 seconds.\n",
      "number of inputs:  2000\n",
      "dimensions:  403058\n"
     ]
    }
   ],
   "source": [
    "print('tf_idf engineering...')\n",
    "start_time = time.time()\n",
    "X_train_tf = tf_idf_engineering(X_train[:2000])\n",
    "elapsed_time = time.time() - start_time\n",
    "print(f\"finished in: {elapsed_time:.3f} seconds.\")\n",
    "print('number of inputs: ', len(X_train_tf))\n",
    "print('dimensions: ', len(X_train_tf[0]))"
   ]
  },
  {
   "cell_type": "code",
   "execution_count": 9,
   "id": "67d0f9afcb490a5c",
   "metadata": {
    "ExecuteTime": {
     "end_time": "2024-03-26T08:23:50.637944Z",
     "start_time": "2024-03-26T08:23:44.248924Z"
    }
   },
   "outputs": [
    {
     "name": "stdout",
     "output_type": "stream",
     "text": [
      "tf_idf engineering...\n",
      "finished in: 5.851 seconds.\n",
      "number of inputs:  3000\n",
      "dimensions:  582499\n"
     ]
    }
   ],
   "source": [
    "print('tf_idf engineering...')\n",
    "start_time = time.time()\n",
    "X_train_tf = tf_idf_engineering(X_train[:3000])\n",
    "elapsed_time = time.time() - start_time\n",
    "print(f\"finished in: {elapsed_time:.3f} seconds.\")\n",
    "print('number of inputs: ', len(X_train_tf))\n",
    "print('dimensions: ', len(X_train_tf[0]))"
   ]
  },
  {
   "cell_type": "code",
   "execution_count": 10,
   "id": "7a3538db77288620",
   "metadata": {
    "ExecuteTime": {
     "end_time": "2024-03-26T08:24:00.493442Z",
     "start_time": "2024-03-26T08:23:50.646462Z"
    }
   },
   "outputs": [
    {
     "name": "stdout",
     "output_type": "stream",
     "text": [
      "tf_idf engineering...\n",
      "finished in: 9.149 seconds.\n",
      "number of inputs:  4000\n",
      "dimensions:  741825\n"
     ]
    }
   ],
   "source": [
    "print('tf_idf engineering...')\n",
    "start_time = time.time()\n",
    "X_train_tf = tf_idf_engineering(X_train[:4000])\n",
    "elapsed_time = time.time() - start_time\n",
    "print(f\"finished in: {elapsed_time:.3f} seconds.\")\n",
    "print('number of inputs: ', len(X_train_tf))\n",
    "print('dimensions: ', len(X_train_tf[0]))"
   ]
  },
  {
   "cell_type": "code",
   "execution_count": null,
   "id": "1938db129344814f",
   "metadata": {
    "ExecuteTime": {
     "start_time": "2024-03-26T08:24:04.760317Z"
    },
    "is_executing": true
   },
   "outputs": [
    {
     "name": "stdout",
     "output_type": "stream",
     "text": [
      "tf_idf engineering...\n"
     ]
    }
   ],
   "source": [
    "print('tf_idf engineering...')\n",
    "start_time = time.time()\n",
    "X_train_tf = tf_idf_engineering(X_train[:10000])\n",
    "elapsed_time = time.time() - start_time\n",
    "print(f\"finished in: {elapsed_time:.3f} seconds.\")\n",
    "print('number of inputs: ', len(X_train_tf))\n",
    "print('dimensions: ', len(X_train_tf[0]))"
   ]
  },
  {
   "cell_type": "code",
   "execution_count": 1,
   "id": "f0c0c5e42c10436d",
   "metadata": {
    "ExecuteTime": {
     "end_time": "2024-03-26T08:12:53.187912Z",
     "start_time": "2024-03-26T08:12:53.004053Z"
    }
   },
   "outputs": [
    {
     "ename": "NameError",
     "evalue": "name 'X_train_tf' is not defined",
     "output_type": "error",
     "traceback": [
      "\u001b[0;31m---------------------------------------------------------------------------\u001b[0m",
      "\u001b[0;31mNameError\u001b[0m                                 Traceback (most recent call last)",
      "Cell \u001b[0;32mIn[1], line 1\u001b[0m\n\u001b[0;32m----> 1\u001b[0m \u001b[38;5;28mprint\u001b[39m(\u001b[38;5;124m'\u001b[39m\u001b[38;5;124mdimensions: \u001b[39m\u001b[38;5;124m'\u001b[39m, \u001b[38;5;28mlen\u001b[39m(X_train_tf[\u001b[38;5;241m0\u001b[39m]))\n\u001b[1;32m      2\u001b[0m \u001b[38;5;28mprint\u001b[39m(\u001b[38;5;124m'\u001b[39m\u001b[38;5;124mdimensions: \u001b[39m\u001b[38;5;124m'\u001b[39m, \u001b[38;5;28mlen\u001b[39m(X_train_tf[\u001b[38;5;241m1\u001b[39m]))\n\u001b[1;32m      3\u001b[0m \u001b[38;5;28mprint\u001b[39m(\u001b[38;5;124m'\u001b[39m\u001b[38;5;124mdimensions: \u001b[39m\u001b[38;5;124m'\u001b[39m, \u001b[38;5;28mlen\u001b[39m(X_train_tf[\u001b[38;5;241m3\u001b[39m]))\n",
      "\u001b[0;31mNameError\u001b[0m: name 'X_train_tf' is not defined"
     ]
    }
   ],
   "source": [
    "print('dimensions: ', len(X_train_tf[0]))\n",
    "print('dimensions: ', len(X_train_tf[1]))\n",
    "print('dimensions: ', len(X_train_tf[3]))"
   ]
  },
  {
   "cell_type": "code",
   "execution_count": 14,
   "id": "27934cfb1e85df8d",
   "metadata": {
    "ExecuteTime": {
     "end_time": "2024-03-26T08:12:53.523473Z",
     "start_time": "2024-03-26T08:12:53.502890Z"
    }
   },
   "outputs": [
    {
     "name": "stdout",
     "output_type": "stream",
     "text": [
      "Feature engineering for validation data\n",
      "Naive Bayes\n"
     ]
    },
    {
     "ename": "ValueError",
     "evalue": "X has 212408 features, but MultinomialNB is expecting 741825 features as input.",
     "output_type": "error",
     "traceback": [
      "\u001b[0;31m---------------------------------------------------------------------------\u001b[0m",
      "\u001b[0;31mValueError\u001b[0m                                Traceback (most recent call last)",
      "Cell \u001b[0;32mIn[14], line 13\u001b[0m\n\u001b[1;32m     10\u001b[0m classifier \u001b[38;5;241m=\u001b[39m MultinomialNB()\n\u001b[1;32m     11\u001b[0m classifier\u001b[38;5;241m.\u001b[39mfit(X_train_tf, y_train[:\u001b[38;5;241m4000\u001b[39m])\n\u001b[0;32m---> 13\u001b[0m predictions \u001b[38;5;241m=\u001b[39m classifier\u001b[38;5;241m.\u001b[39mpredict(X_val_tf)\n\u001b[1;32m     14\u001b[0m accuracy \u001b[38;5;241m=\u001b[39m accuracy_score(y_val[:\u001b[38;5;241m1000\u001b[39m], predictions)\n\u001b[1;32m     15\u001b[0m \u001b[38;5;28mprint\u001b[39m(\u001b[38;5;124mf\u001b[39m\u001b[38;5;124m'\u001b[39m\u001b[38;5;124mAccuracy: \u001b[39m\u001b[38;5;132;01m{\u001b[39;00maccuracy\u001b[38;5;132;01m}\u001b[39;00m\u001b[38;5;124m'\u001b[39m)\n",
      "File \u001b[0;32m~/anaconda3/lib/python3.11/site-packages/sklearn/naive_bayes.py:101\u001b[0m, in \u001b[0;36m_BaseNB.predict\u001b[0;34m(self, X)\u001b[0m\n\u001b[1;32m     87\u001b[0m \u001b[38;5;250m\u001b[39m\u001b[38;5;124;03m\"\"\"\u001b[39;00m\n\u001b[1;32m     88\u001b[0m \u001b[38;5;124;03mPerform classification on an array of test vectors X.\u001b[39;00m\n\u001b[1;32m     89\u001b[0m \n\u001b[0;32m   (...)\u001b[0m\n\u001b[1;32m     98\u001b[0m \u001b[38;5;124;03m    Predicted target values for X.\u001b[39;00m\n\u001b[1;32m     99\u001b[0m \u001b[38;5;124;03m\"\"\"\u001b[39;00m\n\u001b[1;32m    100\u001b[0m check_is_fitted(\u001b[38;5;28mself\u001b[39m)\n\u001b[0;32m--> 101\u001b[0m X \u001b[38;5;241m=\u001b[39m \u001b[38;5;28mself\u001b[39m\u001b[38;5;241m.\u001b[39m_check_X(X)\n\u001b[1;32m    102\u001b[0m jll \u001b[38;5;241m=\u001b[39m \u001b[38;5;28mself\u001b[39m\u001b[38;5;241m.\u001b[39m_joint_log_likelihood(X)\n\u001b[1;32m    103\u001b[0m \u001b[38;5;28;01mreturn\u001b[39;00m \u001b[38;5;28mself\u001b[39m\u001b[38;5;241m.\u001b[39mclasses_[np\u001b[38;5;241m.\u001b[39margmax(jll, axis\u001b[38;5;241m=\u001b[39m\u001b[38;5;241m1\u001b[39m)]\n",
      "File \u001b[0;32m~/anaconda3/lib/python3.11/site-packages/sklearn/naive_bayes.py:574\u001b[0m, in \u001b[0;36m_BaseDiscreteNB._check_X\u001b[0;34m(self, X)\u001b[0m\n\u001b[1;32m    572\u001b[0m \u001b[38;5;28;01mdef\u001b[39;00m \u001b[38;5;21m_check_X\u001b[39m(\u001b[38;5;28mself\u001b[39m, X):\n\u001b[1;32m    573\u001b[0m \u001b[38;5;250m    \u001b[39m\u001b[38;5;124;03m\"\"\"Validate X, used only in predict* methods.\"\"\"\u001b[39;00m\n\u001b[0;32m--> 574\u001b[0m     \u001b[38;5;28;01mreturn\u001b[39;00m \u001b[38;5;28mself\u001b[39m\u001b[38;5;241m.\u001b[39m_validate_data(X, accept_sparse\u001b[38;5;241m=\u001b[39m\u001b[38;5;124m\"\u001b[39m\u001b[38;5;124mcsr\u001b[39m\u001b[38;5;124m\"\u001b[39m, reset\u001b[38;5;241m=\u001b[39m\u001b[38;5;28;01mFalse\u001b[39;00m)\n",
      "File \u001b[0;32m~/anaconda3/lib/python3.11/site-packages/sklearn/base.py:625\u001b[0m, in \u001b[0;36mBaseEstimator._validate_data\u001b[0;34m(self, X, y, reset, validate_separately, cast_to_ndarray, **check_params)\u001b[0m\n\u001b[1;32m    622\u001b[0m     out \u001b[38;5;241m=\u001b[39m X, y\n\u001b[1;32m    624\u001b[0m \u001b[38;5;28;01mif\u001b[39;00m \u001b[38;5;129;01mnot\u001b[39;00m no_val_X \u001b[38;5;129;01mand\u001b[39;00m check_params\u001b[38;5;241m.\u001b[39mget(\u001b[38;5;124m\"\u001b[39m\u001b[38;5;124mensure_2d\u001b[39m\u001b[38;5;124m\"\u001b[39m, \u001b[38;5;28;01mTrue\u001b[39;00m):\n\u001b[0;32m--> 625\u001b[0m     \u001b[38;5;28mself\u001b[39m\u001b[38;5;241m.\u001b[39m_check_n_features(X, reset\u001b[38;5;241m=\u001b[39mreset)\n\u001b[1;32m    627\u001b[0m \u001b[38;5;28;01mreturn\u001b[39;00m out\n",
      "File \u001b[0;32m~/anaconda3/lib/python3.11/site-packages/sklearn/base.py:414\u001b[0m, in \u001b[0;36mBaseEstimator._check_n_features\u001b[0;34m(self, X, reset)\u001b[0m\n\u001b[1;32m    411\u001b[0m     \u001b[38;5;28;01mreturn\u001b[39;00m\n\u001b[1;32m    413\u001b[0m \u001b[38;5;28;01mif\u001b[39;00m n_features \u001b[38;5;241m!=\u001b[39m \u001b[38;5;28mself\u001b[39m\u001b[38;5;241m.\u001b[39mn_features_in_:\n\u001b[0;32m--> 414\u001b[0m     \u001b[38;5;28;01mraise\u001b[39;00m \u001b[38;5;167;01mValueError\u001b[39;00m(\n\u001b[1;32m    415\u001b[0m         \u001b[38;5;124mf\u001b[39m\u001b[38;5;124m\"\u001b[39m\u001b[38;5;124mX has \u001b[39m\u001b[38;5;132;01m{\u001b[39;00mn_features\u001b[38;5;132;01m}\u001b[39;00m\u001b[38;5;124m features, but \u001b[39m\u001b[38;5;132;01m{\u001b[39;00m\u001b[38;5;28mself\u001b[39m\u001b[38;5;241m.\u001b[39m\u001b[38;5;18m__class__\u001b[39m\u001b[38;5;241m.\u001b[39m\u001b[38;5;18m__name__\u001b[39m\u001b[38;5;132;01m}\u001b[39;00m\u001b[38;5;124m \u001b[39m\u001b[38;5;124m\"\u001b[39m\n\u001b[1;32m    416\u001b[0m         \u001b[38;5;124mf\u001b[39m\u001b[38;5;124m\"\u001b[39m\u001b[38;5;124mis expecting \u001b[39m\u001b[38;5;132;01m{\u001b[39;00m\u001b[38;5;28mself\u001b[39m\u001b[38;5;241m.\u001b[39mn_features_in_\u001b[38;5;132;01m}\u001b[39;00m\u001b[38;5;124m features as input.\u001b[39m\u001b[38;5;124m\"\u001b[39m\n\u001b[1;32m    417\u001b[0m     )\n",
      "\u001b[0;31mValueError\u001b[0m: X has 212408 features, but MultinomialNB is expecting 741825 features as input."
     ]
    }
   ],
   "source": [
    "from sklearn.naive_bayes import MultinomialNB\n",
    "\n",
    "print('Feature engineering for validation data')\n",
    "X_val_tf = tf_idf_engineering(X_val[:1000])\n",
    "\n",
    "print('Naive Bayes')\n",
    "start_time = time.time()\n",
    "\n",
    "# Now, directly use the engineered features with the classifier\n",
    "classifier = MultinomialNB()\n",
    "classifier.fit(X_train_tf, y_train[:4000])\n",
    "\n",
    "predictions = classifier.predict(X_val_tf)\n",
    "accuracy = accuracy_score(y_val[:1000], predictions)\n",
    "print(f'Accuracy: {accuracy}')\n",
    "\n",
    "elapsed_time = time.time() - start_time\n",
    "print(f\"Finished Naive Bayes in: {elapsed_time:.3f} seconds\")"
   ]
  },
  {
   "cell_type": "code",
   "execution_count": null,
   "id": "378e7d966726c2ee",
   "metadata": {},
   "outputs": [],
   "source": []
  }
 ],
 "metadata": {
  "kernelspec": {
   "display_name": "Python 3 (ipykernel)",
   "language": "python",
   "name": "python3"
  },
  "language_info": {
   "codemirror_mode": {
    "name": "ipython",
    "version": 3
   },
   "file_extension": ".py",
   "mimetype": "text/x-python",
   "name": "python",
   "nbconvert_exporter": "python",
   "pygments_lexer": "ipython3",
   "version": "3.11.5"
  }
 },
 "nbformat": 4,
 "nbformat_minor": 5
}
